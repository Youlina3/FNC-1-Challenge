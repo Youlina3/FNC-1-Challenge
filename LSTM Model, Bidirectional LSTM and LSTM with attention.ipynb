{
 "cells": [
  {
   "cell_type": "code",
   "execution_count": 1,
   "metadata": {},
   "outputs": [
    {
     "name": "stderr",
     "output_type": "stream",
     "text": [
      "/usr/lib64/python3.6/importlib/_bootstrap.py:219: RuntimeWarning: numpy.dtype size changed, may indicate binary incompatibility. Expected 96, got 88\n",
      "  return f(*args, **kwds)\n",
      "/usr/lib64/python3.6/importlib/_bootstrap.py:219: RuntimeWarning: numpy.dtype size changed, may indicate binary incompatibility. Expected 96, got 88\n",
      "  return f(*args, **kwds)\n",
      "Using TensorFlow backend.\n"
     ]
    }
   ],
   "source": [
    "import gensim\n",
    "import numpy as np\n",
    "import pandas as pd\n",
    "import os\n",
    "import re\n",
    "import csv\n",
    "import codecs\n",
    "import sys\n",
    "import pickle\n",
    "\n",
    "from gensim.scripts.glove2word2vec import glove2word2vec\n",
    "from gensim.models import KeyedVectors\n",
    "from sklearn.model_selection import train_test_split\n",
    "\n",
    "from keras import callbacks\n",
    "from keras import optimizers\n",
    "from keras.models import Sequential, Model\n",
    "from keras.layers import Input, Dense, LSTM, Embedding, Dropout, BatchNormalization, Activation, Bidirectional\n",
    "from keras.layers.merge import concatenate\n",
    "from keras.layers.normalization import BatchNormalization\n",
    "from keras.preprocessing.text import text_to_word_sequence, Tokenizer\n",
    "from keras.preprocessing.sequence import pad_sequences\n",
    "\n",
    "import matplotlib as mpl\n",
    "%matplotlib inline\n",
    "from matplotlib import pyplot as plt\n",
    "from keras.utils import plot_model \n",
    "from IPython.display import Image\n",
    "import pydot\n",
    "from sklearn.preprocessing import LabelEncoder\n",
    "from keras.utils import np_utils\n",
    "import tensorflow as tf\n",
    "\n",
    "\n",
    "from nltk.corpus import stopwords\n",
    "from nltk.stem import SnowballStemmer\n",
    "\n",
    "from string import punctuation\n",
    "\n",
    "from keras import backend as K\n",
    "from keras.engine.topology import Layer\n",
    "#from keras import initializations\n",
    "from keras import initializers, regularizers, constraints\n",
    "\n",
    "tf_gpu_options = tf.GPUOptions(allow_growth = True) # per_process_gpu_memory_fraction=0.12,\n",
    "tf_session = tf.Session(config=tf.ConfigProto(gpu_options=tf_gpu_options))\n",
    "tf.keras.backend.set_session(tf_session)\n",
    "\n",
    "#biodirectional embedding\n"
   ]
  },
  {
   "cell_type": "code",
   "execution_count": 2,
   "metadata": {},
   "outputs": [],
   "source": [
    "# Specify the folder locations\n",
    "#W2V_DIR = './data/GoogleNews-vectors-negative300.bin' #\n",
    "GloVe_DIR = './data/glove.twitter.27B.50d.txt'\n",
    "#the data directory\n",
    "DATA_DIR = './data'\n",
    "# These are some hyperparameters that can be tuned\n",
    "MAX_SENT_LEN = 150 #75(0.68), 150, 300 700(90% but too time comsuming)\n",
    "MAX_VOCAB_SIZE = 40000 #vocabulary\n",
    "LSTM_DIM = 100#len(embd[0])\n",
    "EMBEDDING_DIM = 50 #50 for GloVe 300 for w2v\n",
    "BATCH_SIZE = 128\n",
    "N_EPOCHS = 40 #40\n"
   ]
  },
  {
   "cell_type": "markdown",
   "metadata": {},
   "source": [
    "basic latm(1):GoogleNews: 75 150(0.7158 for 1 epoch) 300 700||GloVe: 75 150(0.7162 for 1 epoch) 300 700\n",
    "bidrectional latm:GloVe: 75 150( 0.7141 for 1 epoch) 300 700\n",
    "Glove+LSTM+ATTENTION(kaddle): 0.7162 for 1 epoch\n",
    "Glove+LSTM+ATTENTION(attentionsize=15): 0.7162 for 1 epoch"
   ]
  },
  {
   "cell_type": "code",
   "execution_count": 3,
   "metadata": {},
   "outputs": [],
   "source": [
    "# fix random seed for reproducibility\n",
    "seed = 1\n",
    "np.random.seed(seed)"
   ]
  },
  {
   "cell_type": "code",
   "execution_count": 4,
   "metadata": {},
   "outputs": [],
   "source": [
    "# Read the text files of fnc data\n",
    "bodies = pd.read_csv(DATA_DIR + '/body_table.csv')\n",
    "    \n",
    "train_df = pd.read_csv(DATA_DIR + '/train_data.csv')\n",
    "\n",
    "#validation_df = pd.read_csv(DATA_DIR + '/validation_data.csv')\n",
    "\n",
    "test_df = pd.read_csv(DATA_DIR + '/test_data.csv')"
   ]
  },
  {
   "cell_type": "code",
   "execution_count": 5,
   "metadata": {},
   "outputs": [],
   "source": [
    "train_df.replace('unrelated',1,True)\n",
    "train_df.replace('agree',2,True)\n",
    "train_df.replace('disagree',3,True)\n",
    "train_df.replace('discuss',4,True)"
   ]
  },
  {
   "cell_type": "code",
   "execution_count": 6,
   "metadata": {},
   "outputs": [],
   "source": [
    "combine_df_train = train_df.join(bodies.set_index('Body ID'), on='Body ID')\n",
    "combine_df_test = test_df.join(bodies.set_index('Body ID'), on='Body ID')"
   ]
  },
  {
   "cell_type": "code",
   "execution_count": 7,
   "metadata": {},
   "outputs": [],
   "source": [
    "# Pre-processing involves removal of puctuations and converting text to lower case\n",
    "word_seq_head_train = [text_to_word_sequence(head) for head in combine_df_train['Headline']]\n",
    "word_seq_bodies_train = [text_to_word_sequence(body) for body in combine_df_train['articleBody']]\n",
    "word_seq_head_test = [text_to_word_sequence(head) for head in combine_df_test['Headline']]\n",
    "word_seq_bodies_test = [text_to_word_sequence(body) for body in combine_df_test['articleBody']]"
   ]
  },
  {
   "cell_type": "code",
   "execution_count": 8,
   "metadata": {},
   "outputs": [
    {
     "name": "stdout",
     "output_type": "stream",
     "text": [
      "90th Percentile Sentence of headline: 16.0\n"
     ]
    }
   ],
   "source": [
    "print('90th Percentile Sentence of headline:', np.percentile([len(seq) for seq in word_seq_head_train], 90))"
   ]
  },
  {
   "cell_type": "code",
   "execution_count": 9,
   "metadata": {},
   "outputs": [
    {
     "name": "stdout",
     "output_type": "stream",
     "text": [
      "90th Percentile Sentence of body: 306.0\n"
     ]
    }
   ],
   "source": [
    "print('90th Percentile Sentence of body:', np.percentile([len(seq) for seq in word_seq_bodies_train], 50))"
   ]
  },
  {
   "cell_type": "code",
   "execution_count": 10,
   "metadata": {},
   "outputs": [],
   "source": [
    "word_seq = []\n",
    "for i in range(len(word_seq_head_train)):\n",
    "    word_seq.append(word_seq_head_train[i])\n",
    "for i in range(len(word_seq_bodies_train)):\n",
    "    word_seq.append(word_seq_bodies_train[i])\n",
    "for i in range(len(word_seq_head_test)):\n",
    "    word_seq.append(word_seq_head_test[i])\n",
    "for i in range(len(word_seq_bodies_test)):\n",
    "    word_seq.append(word_seq_bodies_test[i])\n",
    "\n"
   ]
  },
  {
   "cell_type": "code",
   "execution_count": 11,
   "metadata": {},
   "outputs": [
    {
     "name": "stdout",
     "output_type": "stream",
     "text": [
      "Number of words in vocabulary: 35375\n"
     ]
    }
   ],
   "source": [
    "filter_list = '!\"\\'#$%&()*+,-./:;<=>?@[\\\\]^_`{|}~\\t\\n'\n",
    "\n",
    "tokenizer = Tokenizer(num_words=MAX_VOCAB_SIZE, filters=filter_list)\n",
    "tokenizer.fit_on_texts([seq for seq in word_seq])\n",
    "##because it only includes unique words(tokens)\n",
    "\n",
    "print(\"Number of words in vocabulary:\", len(tokenizer.word_index))"
   ]
  },
  {
   "cell_type": "code",
   "execution_count": 12,
   "metadata": {},
   "outputs": [],
   "source": [
    "#combine headline and body together\n",
    "word_seq_train = [list(i) for i in word_seq_head_train]\n",
    "for i in range(len(word_seq_head_train)):\n",
    "    word_seq_train[i].extend(word_seq_bodies_train[i]) \n",
    "    \n",
    "word_seq_test = [list(i) for i in word_seq_head_test]\n",
    "for i in range(len(word_seq_head_test)):\n",
    "    word_seq_test[i].extend(word_seq_bodies_test[i]) \n"
   ]
  },
  {
   "cell_type": "code",
   "execution_count": 13,
   "metadata": {},
   "outputs": [],
   "source": [
    "#shorten the sentence to a fixed length\n",
    "# Convert the sequence of words to sequnce of indices\n",
    "X_train = tokenizer.texts_to_sequences([' '.join(seq[:MAX_SENT_LEN]) for seq in word_seq_train])\n",
    "X_train = pad_sequences(X_train, maxlen=MAX_SENT_LEN, padding='post', truncating='post')\n",
    "y_train = combine_df_train['Stance']\n"
   ]
  },
  {
   "cell_type": "code",
   "execution_count": 14,
   "metadata": {},
   "outputs": [],
   "source": [
    "# Convert the sequence of words to sequnce of indices\n",
    "X_test = tokenizer.texts_to_sequences([' '.join(seq[:MAX_SENT_LEN]) for seq in word_seq_test])\n",
    "X_test = pad_sequences(X_test, maxlen=MAX_SENT_LEN, padding='post', truncating='post')"
   ]
  },
  {
   "cell_type": "code",
   "execution_count": 15,
   "metadata": {},
   "outputs": [],
   "source": [
    "# encode class values as integers\n",
    "encoder_train = LabelEncoder()\n",
    "encoder_train.fit(y_train)\n",
    "encoded_train = encoder_train.transform(y_train)\n",
    "# convert integers to dummy variables (i.e. one hot encoded)\n",
    "dummy_y_train = np_utils.to_categorical(encoded_train)\n"
   ]
  },
  {
   "cell_type": "code",
   "execution_count": 16,
   "metadata": {},
   "outputs": [],
   "source": [
    "X_train, X_vali, y_train, y_vali = train_test_split(X_train, dummy_y_train, random_state=10, test_size=0.1)"
   ]
  },
  {
   "cell_type": "markdown",
   "metadata": {},
   "source": [
    "# Build model"
   ]
  },
  {
   "cell_type": "code",
   "execution_count": 17,
   "metadata": {},
   "outputs": [
    {
     "ename": "NameError",
     "evalue": "name 'W2V_DIR' is not defined",
     "output_type": "error",
     "traceback": [
      "\u001b[0;31m---------------------------------------------------------------------------\u001b[0m",
      "\u001b[0;31mNameError\u001b[0m                                 Traceback (most recent call last)",
      "\u001b[0;32m<ipython-input-17-4a754a6fe0b3>\u001b[0m in \u001b[0;36m<module>\u001b[0;34m()\u001b[0m\n\u001b[1;32m      1\u001b[0m \u001b[0;31m# Load the word2vec embeddings\u001b[0m\u001b[0;34m\u001b[0m\u001b[0;34m\u001b[0m\u001b[0m\n\u001b[0;32m----> 2\u001b[0;31m \u001b[0membeddings\u001b[0m \u001b[0;34m=\u001b[0m \u001b[0mgensim\u001b[0m\u001b[0;34m.\u001b[0m\u001b[0mmodels\u001b[0m\u001b[0;34m.\u001b[0m\u001b[0mKeyedVectors\u001b[0m\u001b[0;34m.\u001b[0m\u001b[0mload_word2vec_format\u001b[0m\u001b[0;34m(\u001b[0m\u001b[0mW2V_DIR\u001b[0m\u001b[0;34m,\u001b[0m \u001b[0mbinary\u001b[0m\u001b[0;34m=\u001b[0m\u001b[0;32mTrue\u001b[0m\u001b[0;34m)\u001b[0m\u001b[0;34m\u001b[0m\u001b[0m\n\u001b[0m",
      "\u001b[0;31mNameError\u001b[0m: name 'W2V_DIR' is not defined"
     ]
    }
   ],
   "source": [
    "# Load the word2vec embeddings \n",
    "embeddings = gensim.models.KeyedVectors.load_word2vec_format(W2V_DIR, binary=True)\n",
    "\n"
   ]
  },
  {
   "cell_type": "code",
   "execution_count": 18,
   "metadata": {},
   "outputs": [],
   "source": [
    "#GloVes Load\n",
    "glove_input_file = GloVe_DIR\n",
    "word2vec_output_file = 'glove.50d.txt.word2vec'\n",
    "glove2word2vec(glove_input_file, word2vec_output_file)\n",
    "embeddings = gensim.models.KeyedVectors.load_word2vec_format(word2vec_output_file, binary=False)"
   ]
  },
  {
   "cell_type": "code",
   "execution_count": 19,
   "metadata": {},
   "outputs": [],
   "source": [
    "# Create an embedding matrix containing only the word's in our vocabulary\n",
    "# If the word does not have a pre-trained embedding, then randomly initialize the embedding\n",
    "embeddings_matrix = np.random.uniform(-0.05, 0.05, size=(len(tokenizer.word_index)+1, EMBEDDING_DIM)) # +1 is because the matrix indices start with 0\n",
    "for word, i in tokenizer.word_index.items(): # i=0 is the embedding for the zero padding\n",
    "    try:\n",
    "        embeddings_vector = embeddings[word]\n",
    "    except KeyError:\n",
    "        embeddings_vector = None\n",
    "        #word 是sentence里的\n",
    "        #none: if sentence里的word没有对应的pre-trained embedding 那么就有keyerror了\n",
    "    if embeddings_vector is not None:\n",
    "        embeddings_matrix[i] = embeddings_vector\n",
    "        #如果存在pre-trained word embedding，那么把这个embedding给到embedding_matrix里\n",
    "        #embeddings_matrix的第i行对应Wi\n",
    "        \n",
    "del embeddings\n",
    "#delete"
   ]
  },
  {
   "cell_type": "code",
   "execution_count": 20,
   "metadata": {},
   "outputs": [],
   "source": [
    "# Build a sequential model by stacking neural net units \n",
    "model_1 = Sequential()\n",
    "model_1.add(Embedding(input_dim=len(tokenizer.word_index)+1,\n",
    "                          output_dim=EMBEDDING_DIM,\n",
    "                          weights = [embeddings_matrix], trainable=True, name='word_embedding_layer', #False\n",
    "                          mask_zero=True))\n",
    "#mask_zero is to deal with padding problem\n",
    "#model.add(Bidirectional(LSTM(LSTM_DIM, return_sequences=False, name='lstm_layer1'))) #bi(lstm)\n",
    "model_1.add(Bidirectional(LSTM(LSTM_DIM, return_sequences=False, name='Bidrectional_lstm_layer1')))\n",
    "model_1.add(Dropout(rate=0.8, name='dropout_1')) # Can try varying dropout rates, in paper suggest 0.2\n",
    "model_1.add(Dense(4, activation='softmax', name='output_layer'))"
   ]
  },
  {
   "cell_type": "code",
   "execution_count": 21,
   "metadata": {},
   "outputs": [],
   "source": [
    "plot_model(model_1, to_file='bidirectional_model.png', show_layer_names=True, show_shapes=True)"
   ]
  },
  {
   "cell_type": "code",
   "execution_count": 55,
   "metadata": {},
   "outputs": [],
   "source": [
    "filepath=\"./result/lstm/epoch40/Bidirectional_lstm_150token_lr0.001_trainable_{epoch:02d}_{val_acc:.4f}.h5\"\n",
    "checkpoint = callbacks.ModelCheckpoint(filepath, \n",
    "                                       monitor='val_acc', \n",
    "                                       verbose=0, \n",
    "                                       save_best_only=True)\n",
    "\n",
    "callbacks_list1 = [checkpoint]"
   ]
  },
  {
   "cell_type": "code",
   "execution_count": 56,
   "metadata": {},
   "outputs": [],
   "source": [
    "#before trainning model, we need to compile it\n",
    "#use adam optimizer\n",
    "model_1.compile(loss='categorical_crossentropy',\n",
    "              optimizer='adam',\n",
    "              metrics=['accuracy'])"
   ]
  },
  {
   "cell_type": "markdown",
   "metadata": {},
   "source": [
    "# Train model\n"
   ]
  },
  {
   "cell_type": "code",
   "execution_count": 57,
   "metadata": {},
   "outputs": [
    {
     "name": "stdout",
     "output_type": "stream",
     "text": [
      "Train on 60009 samples, validate on 6668 samples\n",
      "Epoch 1/40\n",
      "60009/60009 [==============================] - 177s 3ms/step - loss: 0.7869 - acc: 0.7258 - val_loss: 0.6607 - val_acc: 0.7629\n",
      "Epoch 2/40\n",
      "60009/60009 [==============================] - 179s 3ms/step - loss: 0.5995 - acc: 0.7796 - val_loss: 0.4960 - val_acc: 0.8134\n",
      "Epoch 3/40\n",
      "60009/60009 [==============================] - 205s 3ms/step - loss: 0.4726 - acc: 0.8236 - val_loss: 0.4283 - val_acc: 0.8410\n",
      "Epoch 4/40\n",
      "60009/60009 [==============================] - 255s 4ms/step - loss: 0.3872 - acc: 0.8553 - val_loss: 0.3638 - val_acc: 0.8634\n",
      "Epoch 5/40\n",
      "60009/60009 [==============================] - 250s 4ms/step - loss: 0.3262 - acc: 0.8747 - val_loss: 0.3183 - val_acc: 0.8763\n",
      "Epoch 6/40\n",
      "60009/60009 [==============================] - 248s 4ms/step - loss: 0.2755 - acc: 0.8948 - val_loss: 0.2759 - val_acc: 0.8931\n",
      "Epoch 7/40\n",
      "60009/60009 [==============================] - 248s 4ms/step - loss: 0.2352 - acc: 0.9079 - val_loss: 0.2604 - val_acc: 0.9000\n",
      "Epoch 8/40\n",
      "60009/60009 [==============================] - 249s 4ms/step - loss: 0.2041 - acc: 0.9211 - val_loss: 0.2330 - val_acc: 0.9079\n",
      "Epoch 9/40\n",
      "60009/60009 [==============================] - 251s 4ms/step - loss: 0.1728 - acc: 0.9343 - val_loss: 0.2347 - val_acc: 0.9090\n",
      "Epoch 10/40\n",
      "60009/60009 [==============================] - 248s 4ms/step - loss: 0.1511 - acc: 0.9421 - val_loss: 0.2157 - val_acc: 0.9220\n",
      "Epoch 11/40\n",
      "60009/60009 [==============================] - 248s 4ms/step - loss: 0.1344 - acc: 0.9495 - val_loss: 0.2151 - val_acc: 0.9253\n",
      "Epoch 12/40\n",
      "60009/60009 [==============================] - 248s 4ms/step - loss: 0.1179 - acc: 0.9550 - val_loss: 0.2376 - val_acc: 0.9214\n",
      "Epoch 13/40\n",
      "60009/60009 [==============================] - 253s 4ms/step - loss: 0.1035 - acc: 0.9611 - val_loss: 0.1988 - val_acc: 0.9298\n",
      "Epoch 14/40\n",
      "60009/60009 [==============================] - 250s 4ms/step - loss: 0.0950 - acc: 0.9647 - val_loss: 0.2026 - val_acc: 0.9343\n",
      "Epoch 15/40\n",
      "60009/60009 [==============================] - 249s 4ms/step - loss: 0.0878 - acc: 0.9669 - val_loss: 0.2200 - val_acc: 0.9325\n",
      "Epoch 16/40\n",
      "60009/60009 [==============================] - 247s 4ms/step - loss: 0.0788 - acc: 0.9705 - val_loss: 0.2096 - val_acc: 0.9363\n",
      "Epoch 17/40\n",
      "60009/60009 [==============================] - 249s 4ms/step - loss: 0.0734 - acc: 0.9729 - val_loss: 0.2203 - val_acc: 0.9379\n",
      "Epoch 18/40\n",
      "60009/60009 [==============================] - 248s 4ms/step - loss: 0.0660 - acc: 0.9761 - val_loss: 0.2185 - val_acc: 0.9352\n",
      "Epoch 19/40\n",
      "60009/60009 [==============================] - 248s 4ms/step - loss: 0.0649 - acc: 0.9759 - val_loss: 0.2121 - val_acc: 0.9396\n",
      "Epoch 20/40\n",
      "60009/60009 [==============================] - 250s 4ms/step - loss: 0.0569 - acc: 0.9789 - val_loss: 0.2166 - val_acc: 0.9444\n",
      "Epoch 21/40\n",
      "60009/60009 [==============================] - 249s 4ms/step - loss: 0.0557 - acc: 0.9798 - val_loss: 0.2198 - val_acc: 0.9415\n",
      "Epoch 22/40\n",
      "60009/60009 [==============================] - 249s 4ms/step - loss: 0.0497 - acc: 0.9811 - val_loss: 0.2125 - val_acc: 0.9418\n",
      "Epoch 23/40\n",
      "60009/60009 [==============================] - 248s 4ms/step - loss: 0.0459 - acc: 0.9832 - val_loss: 0.2170 - val_acc: 0.9433\n",
      "Epoch 24/40\n",
      "60009/60009 [==============================] - 248s 4ms/step - loss: 0.0461 - acc: 0.9832 - val_loss: 0.2199 - val_acc: 0.9427\n",
      "Epoch 25/40\n",
      "60009/60009 [==============================] - 248s 4ms/step - loss: 0.0410 - acc: 0.9854 - val_loss: 0.2225 - val_acc: 0.9471\n",
      "Epoch 26/40\n",
      "60009/60009 [==============================] - 249s 4ms/step - loss: 0.0406 - acc: 0.9852 - val_loss: 0.2078 - val_acc: 0.9478\n",
      "Epoch 27/40\n",
      "60009/60009 [==============================] - 249s 4ms/step - loss: 0.0368 - acc: 0.9867 - val_loss: 0.2342 - val_acc: 0.9487\n",
      "Epoch 28/40\n",
      "60009/60009 [==============================] - 248s 4ms/step - loss: 0.0361 - acc: 0.9873 - val_loss: 0.2366 - val_acc: 0.9439\n",
      "Epoch 29/40\n",
      "60009/60009 [==============================] - 248s 4ms/step - loss: 0.0347 - acc: 0.9882 - val_loss: 0.2405 - val_acc: 0.9483\n",
      "Epoch 30/40\n",
      "60009/60009 [==============================] - 248s 4ms/step - loss: 0.0331 - acc: 0.9884 - val_loss: 0.2325 - val_acc: 0.9468\n",
      "Epoch 31/40\n",
      "60009/60009 [==============================] - 249s 4ms/step - loss: 0.0318 - acc: 0.9890 - val_loss: 0.2420 - val_acc: 0.9468\n",
      "Epoch 32/40\n",
      "60009/60009 [==============================] - 248s 4ms/step - loss: 0.0292 - acc: 0.9898 - val_loss: 0.2386 - val_acc: 0.9525\n",
      "Epoch 33/40\n",
      "60009/60009 [==============================] - 248s 4ms/step - loss: 0.0312 - acc: 0.9901 - val_loss: 0.2395 - val_acc: 0.9490\n",
      "Epoch 34/40\n",
      "60009/60009 [==============================] - 248s 4ms/step - loss: 0.0285 - acc: 0.9904 - val_loss: 0.2427 - val_acc: 0.9522\n",
      "Epoch 35/40\n",
      "60009/60009 [==============================] - 214s 4ms/step - loss: 0.0247 - acc: 0.9914 - val_loss: 0.2484 - val_acc: 0.9496\n",
      "Epoch 36/40\n",
      "60009/60009 [==============================] - 167s 3ms/step - loss: 0.0265 - acc: 0.9913 - val_loss: 0.2620 - val_acc: 0.9498\n",
      "Epoch 37/40\n",
      "60009/60009 [==============================] - 179s 3ms/step - loss: 0.0233 - acc: 0.9922 - val_loss: 0.2400 - val_acc: 0.9504\n",
      "Epoch 38/40\n",
      "60009/60009 [==============================] - 185s 3ms/step - loss: 0.0195 - acc: 0.9934 - val_loss: 0.2427 - val_acc: 0.9502\n",
      "Epoch 39/40\n",
      "60009/60009 [==============================] - 181s 3ms/step - loss: 0.0226 - acc: 0.9925 - val_loss: 0.2502 - val_acc: 0.9535\n",
      "Epoch 40/40\n",
      "60009/60009 [==============================] - 187s 3ms/step - loss: 0.0227 - acc: 0.9924 - val_loss: 0.2350 - val_acc: 0.9516\n"
     ]
    }
   ],
   "source": [
    "#%%capture history\n",
    "#using different emedding pretrained dataset\n",
    "history_3 = model_1.fit(X_train, y_train,\n",
    "          batch_size=BATCH_SIZE,\n",
    "          epochs=N_EPOCHS,\n",
    "          validation_data=(X_vali, y_vali),callbacks = callbacks_list1)\n"
   ]
  },
  {
   "cell_type": "code",
   "execution_count": 58,
   "metadata": {},
   "outputs": [],
   "source": [
    "with open('./history/history(bidirectional_lstm_epoch40_150_lr0.001_trainable)', 'wb') as file_pi:\n",
    "        pickle.dump(history_3.history, file_pi)"
   ]
  },
  {
   "cell_type": "code",
   "execution_count": 111,
   "metadata": {},
   "outputs": [
    {
     "data": {
      "image/png": "[encoded data removed]",
      "text/plain": [
       "<Figure size 432x288 with 1 Axes>"
      ]
     },
     "metadata": {},
     "output_type": "display_data"
    }
   ],
   "source": [
    "plt.plot(history.history['acc'])\n",
    "plt.plot(history.history['val_acc'])\n",
    "plt.title('model accuracy(Truncation: 150 Epoch: 10)')\n",
    "plt.ylabel('Accuracy')\n",
    "plt.xlabel('Epoch')\n",
    "plt.legend(['train', 'test'], loc='upper left')\n",
    "plt.show()"
   ]
  },
  {
   "cell_type": "markdown",
   "metadata": {},
   "source": [
    "# Prediction"
   ]
  },
  {
   "cell_type": "code",
   "execution_count": 18,
   "metadata": {},
   "outputs": [],
   "source": [
    "from keras import models"
   ]
  },
  {
   "cell_type": "code",
   "execution_count": 22,
   "metadata": {},
   "outputs": [
    {
     "name": "stdout",
     "output_type": "stream",
     "text": [
      "h_state (?, 128)\n"
     ]
    }
   ],
   "source": [
    "model_file_path = './result/attention/epoch_40/FNC-1_LSTM_Attention_15Atlength_150_39_0.9318.h5'\n",
    "model = models.load_model(model_file_path,custom_objects = {'Attention': Attention()})"
   ]
  },
  {
   "cell_type": "code",
   "execution_count": 23,
   "metadata": {},
   "outputs": [
    {
     "data": {
      "text/plain": [
       "6270"
      ]
     },
     "execution_count": 23,
     "metadata": {},
     "output_type": "execute_result"
    }
   ],
   "source": [
    "len(X_test)"
   ]
  },
  {
   "cell_type": "code",
   "execution_count": 24,
   "metadata": {},
   "outputs": [],
   "source": [
    "preds = model.predict(X_test)"
   ]
  },
  {
   "cell_type": "code",
   "execution_count": 25,
   "metadata": {},
   "outputs": [],
   "source": [
    "outputs = [np.argmax(p, axis = -1) for p in preds]"
   ]
  },
  {
   "cell_type": "code",
   "execution_count": 26,
   "metadata": {},
   "outputs": [],
   "source": [
    "for i in range(len(outputs)):\n",
    "    if outputs[i] == 0: outputs[i] = \"unrelated\"\n",
    "    if outputs[i] == 1: outputs[i] = \"disagree\"\n",
    "    if outputs[i] == 2: outputs[i] = \"agree\"\n",
    "    if outputs[i] == 3: outputs[i] = \"discuss\"\n"
   ]
  },
  {
   "cell_type": "code",
   "execution_count": 27,
   "metadata": {},
   "outputs": [],
   "source": [
    "df_predicted = {}\n",
    "df_predicted = pd.DataFrame({'Stance': outputs})\n",
    "result = pd.concat([test_df, df_predicted], axis=1, sort=False)\n",
    "result.to_csv('./test_LSTM_Attention_split.csv', index=False, encoding='utf-8')"
   ]
  },
  {
   "cell_type": "markdown",
   "metadata": {},
   "source": [
    "# Improving the model with and Batch-Normalization and Droupouts\n",
    "two more dense layers\n"
   ]
  },
  {
   "cell_type": "code",
   "execution_count": 20,
   "metadata": {},
   "outputs": [
    {
     "name": "stdout",
     "output_type": "stream",
     "text": [
      "_________________________________________________________________\n",
      "Layer (type)                 Output Shape              Param #   \n",
      "=================================================================\n",
      "word_embedding_layer (Embedd (None, None, 50)          1768800   \n",
      "_________________________________________________________________\n",
      "lstm_layer (LSTM)            (None, 100)               60400     \n",
      "_________________________________________________________________\n",
      "dropout_1 (Dropout)          (None, 100)               0         \n",
      "_________________________________________________________________\n",
      "activation_1 (Activation)    (None, 100)               0         \n",
      "_________________________________________________________________\n",
      "dropout_2 (Dropout)          (None, 100)               0         \n",
      "_________________________________________________________________\n",
      "activation_2 (Activation)    (None, 100)               0         \n",
      "_________________________________________________________________\n",
      "output_layer (Dense)         (None, 4)                 404       \n",
      "=================================================================\n",
      "Total params: 1,829,604\n",
      "Trainable params: 60,804\n",
      "Non-trainable params: 1,768,800\n",
      "_________________________________________________________________\n"
     ]
    }
   ],
   "source": [
    "# Build a sequential model by stacking neural net units \n",
    "#dense layer: simply a layer connect units \n",
    "#dropout layer: for reduce overfitting a regularization methhod\n",
    "model = Sequential()\n",
    "model.add(Embedding(input_dim=len(tokenizer.word_index)+1,\n",
    "                          output_dim=EMBEDDING_DIM,\n",
    "                          weights = [embeddings_matrix], trainable=False, name='word_embedding_layer', \n",
    "                          mask_zero=True)) # trainable=True results in overfitting\n",
    "\n",
    "model.add(LSTM(LSTM_DIM, return_sequences=False, name='lstm_layer')) # Can try Bidirectional-LSTM\n",
    "\n",
    "#model.add(Dense(32, name='dense_1'))\n",
    "# model.add(BatchNormalization(name='bn_1')) # BN did not really help with performance \n",
    "model.add(Dropout(rate=0.8, name='dropout_1')) # Can try varying dropout rates, in paper suggest 0.2\n",
    "model.add(Activation(activation='relu', name='activation_1'))\n",
    "\n",
    "#model.add(Dense(8, name='dense_2'))\n",
    "# model.add(BatchNormalization(name='bn_2'))\n",
    "model.add(Dropout(rate=0.2, name='dropout_2'))\n",
    "model.add(Activation(activation='relu', name='activation_2'))\n",
    "\n",
    "model.add(Dense(4, activation='softmax', name='output_layer'))\n",
    "model.summary()"
   ]
  },
  {
   "cell_type": "code",
   "execution_count": null,
   "metadata": {},
   "outputs": [],
   "source": [
    "#CALLBACK FUCTION: TO SAVE MODEL FOR EVERY EPOCH END\n",
    "filepath=\"./saved_models/FNC-1_BASIC_LSTM_150_{epoch:02d}_{val_acc:.4f}.h5\"\n",
    "checkpoint = callbacks.ModelCheckpoint(filepath, \n",
    "                                       monitor='val_acc', \n",
    "                                       verbose=0, \n",
    "                                       save_best_only=True)\n",
    "\n",
    "callbacks_list = [checkpoint]"
   ]
  },
  {
   "cell_type": "code",
   "execution_count": 26,
   "metadata": {},
   "outputs": [],
   "source": [
    "optimizer = optimizers.Adam(lr=0.001)\n",
    "model.compile(loss='categorical_crossentropy',\n",
    "              optimizer=optimizer,\n",
    "              metrics=['accuracy'])"
   ]
  },
  {
   "cell_type": "code",
   "execution_count": 27,
   "metadata": {},
   "outputs": [
    {
     "name": "stdout",
     "output_type": "stream",
     "text": [
      "Train on 60009 samples, validate on 6668 samples\n",
      "Epoch 1/40\n",
      "60009/60009 [==============================] - 92s 2ms/step - loss: 0.7785 - acc: 0.7263 - val_loss: 0.7134 - val_acc: 0.7308\n",
      "Epoch 2/40\n",
      "60009/60009 [==============================] - 91s 2ms/step - loss: 0.7053 - acc: 0.7345 - val_loss: 0.6260 - val_acc: 0.7566\n",
      "Epoch 3/40\n",
      "60009/60009 [==============================] - 90s 2ms/step - loss: 0.6452 - acc: 0.7481 - val_loss: 0.5710 - val_acc: 0.7774\n",
      "Epoch 4/40\n",
      "60009/60009 [==============================] - 90s 2ms/step - loss: 0.5907 - acc: 0.7670 - val_loss: 0.5280 - val_acc: 0.7933\n",
      "Epoch 5/40\n",
      "60009/60009 [==============================] - 90s 2ms/step - loss: 0.5737 - acc: 0.7754 - val_loss: 0.5436 - val_acc: 0.7828\n",
      "Epoch 6/40\n",
      "60009/60009 [==============================] - 90s 2ms/step - loss: 0.5431 - acc: 0.7885 - val_loss: 0.5037 - val_acc: 0.8067\n",
      "Epoch 7/40\n",
      "60009/60009 [==============================] - 91s 2ms/step - loss: 0.5051 - acc: 0.8032 - val_loss: 0.4731 - val_acc: 0.8097\n",
      "Epoch 8/40\n",
      "60009/60009 [==============================] - 91s 2ms/step - loss: 0.4941 - acc: 0.8115 - val_loss: 0.4623 - val_acc: 0.8281\n",
      "Epoch 9/40\n",
      "60009/60009 [==============================] - 90s 2ms/step - loss: 0.4604 - acc: 0.8255 - val_loss: 0.4381 - val_acc: 0.8319\n",
      "Epoch 10/40\n",
      "60009/60009 [==============================] - 91s 2ms/step - loss: 0.4423 - acc: 0.8338 - val_loss: 0.4142 - val_acc: 0.8415\n",
      "Epoch 11/40\n",
      "60009/60009 [==============================] - 91s 2ms/step - loss: 0.4239 - acc: 0.8431 - val_loss: 0.3844 - val_acc: 0.8524\n",
      "Epoch 12/40\n",
      "60009/60009 [==============================] - 90s 2ms/step - loss: 0.4055 - acc: 0.8494 - val_loss: 0.3998 - val_acc: 0.8590\n",
      "Epoch 13/40\n",
      "60009/60009 [==============================] - 91s 2ms/step - loss: 0.3955 - acc: 0.8530 - val_loss: 0.3776 - val_acc: 0.8613\n",
      "Epoch 14/40\n",
      "60009/60009 [==============================] - 91s 2ms/step - loss: 0.3850 - acc: 0.8575 - val_loss: 0.3753 - val_acc: 0.8671\n",
      "Epoch 15/40\n",
      "60009/60009 [==============================] - 90s 2ms/step - loss: 0.3841 - acc: 0.8583 - val_loss: 0.3767 - val_acc: 0.8710\n",
      "Epoch 16/40\n",
      "60009/60009 [==============================] - 90s 2ms/step - loss: 0.3751 - acc: 0.8616 - val_loss: 0.3682 - val_acc: 0.8721\n",
      "Epoch 17/40\n",
      "60009/60009 [==============================] - 91s 2ms/step - loss: 0.3578 - acc: 0.8684 - val_loss: 0.3593 - val_acc: 0.8736\n",
      "Epoch 18/40\n",
      "60009/60009 [==============================] - 91s 2ms/step - loss: 0.3577 - acc: 0.8696 - val_loss: 0.3688 - val_acc: 0.8664\n",
      "Epoch 19/40\n",
      "60009/60009 [==============================] - 90s 2ms/step - loss: 0.3548 - acc: 0.8702 - val_loss: 0.3699 - val_acc: 0.8731\n",
      "Epoch 20/40\n",
      "60009/60009 [==============================] - 91s 2ms/step - loss: 0.3459 - acc: 0.8740 - val_loss: 0.3535 - val_acc: 0.8778\n",
      "Epoch 21/40\n",
      "60009/60009 [==============================] - 91s 2ms/step - loss: 0.3379 - acc: 0.8758 - val_loss: 0.3311 - val_acc: 0.8851\n",
      "Epoch 22/40\n",
      "60009/60009 [==============================] - 90s 2ms/step - loss: 0.3477 - acc: 0.8722 - val_loss: 0.4201 - val_acc: 0.8527\n",
      "Epoch 23/40\n",
      "60009/60009 [==============================] - 90s 2ms/step - loss: 0.3579 - acc: 0.8705 - val_loss: 0.3562 - val_acc: 0.8788\n",
      "Epoch 24/40\n",
      "60009/60009 [==============================] - 91s 2ms/step - loss: 0.3324 - acc: 0.8763 - val_loss: 0.3416 - val_acc: 0.8833\n",
      "Epoch 25/40\n",
      "60009/60009 [==============================] - 90s 1ms/step - loss: 0.3399 - acc: 0.8758 - val_loss: 0.3570 - val_acc: 0.8763\n",
      "Epoch 26/40\n",
      "60009/60009 [==============================] - 91s 2ms/step - loss: 0.3214 - acc: 0.8840 - val_loss: 0.3353 - val_acc: 0.8862\n",
      "Epoch 27/40\n",
      "60009/60009 [==============================] - 90s 2ms/step - loss: 0.3148 - acc: 0.8859 - val_loss: 0.3390 - val_acc: 0.8838\n",
      "Epoch 28/40\n",
      "60009/60009 [==============================] - 90s 1ms/step - loss: 0.3312 - acc: 0.8792 - val_loss: 0.3602 - val_acc: 0.8731\n",
      "Epoch 29/40\n",
      "60009/60009 [==============================] - 90s 2ms/step - loss: 0.3405 - acc: 0.8762 - val_loss: 0.3389 - val_acc: 0.8779\n",
      "Epoch 30/40\n",
      "60009/60009 [==============================] - 91s 2ms/step - loss: 0.3212 - acc: 0.8844 - val_loss: 0.3233 - val_acc: 0.8890\n",
      "Epoch 31/40\n",
      "60009/60009 [==============================] - 90s 2ms/step - loss: 0.3026 - acc: 0.8903 - val_loss: 0.3501 - val_acc: 0.8791\n",
      "Epoch 32/40\n",
      "60009/60009 [==============================] - 91s 2ms/step - loss: 0.3095 - acc: 0.8874 - val_loss: 0.3392 - val_acc: 0.8866\n",
      "Epoch 33/40\n",
      "60009/60009 [==============================] - 90s 2ms/step - loss: 0.3014 - acc: 0.8902 - val_loss: 0.3535 - val_acc: 0.8805\n",
      "Epoch 34/40\n",
      "60009/60009 [==============================] - 90s 2ms/step - loss: 0.3340 - acc: 0.8786 - val_loss: 0.3643 - val_acc: 0.8772\n",
      "Epoch 35/40\n",
      "60009/60009 [==============================] - 91s 2ms/step - loss: 0.3285 - acc: 0.8816 - val_loss: 0.3365 - val_acc: 0.8785\n",
      "Epoch 36/40\n",
      "60009/60009 [==============================] - 91s 2ms/step - loss: 0.3180 - acc: 0.8837 - val_loss: 0.3321 - val_acc: 0.8814\n",
      "Epoch 37/40\n",
      "60009/60009 [==============================] - 90s 2ms/step - loss: 0.3020 - acc: 0.8902 - val_loss: 0.3150 - val_acc: 0.8892\n",
      "Epoch 38/40\n",
      "60009/60009 [==============================] - 90s 2ms/step - loss: 0.3036 - acc: 0.8903 - val_loss: 0.3375 - val_acc: 0.8869\n",
      "Epoch 39/40\n",
      "60009/60009 [==============================] - 90s 2ms/step - loss: 0.3151 - acc: 0.8873 - val_loss: 0.3540 - val_acc: 0.8857\n",
      "Epoch 40/40\n",
      "60009/60009 [==============================] - 90s 2ms/step - loss: 0.3163 - acc: 0.8857 - val_loss: 0.3269 - val_acc: 0.8847\n"
     ]
    },
    {
     "ename": "FileNotFoundError",
     "evalue": "[Errno 2] No such file or directory: '../history/history(lstm_dropout+relu_epoch40_150_lr0.002_trainable)'",
     "output_type": "error",
     "traceback": [
      "\u001b[0;31m---------------------------------------------------------------------------\u001b[0m",
      "\u001b[0;31mFileNotFoundError\u001b[0m                         Traceback (most recent call last)",
      "\u001b[0;32m<ipython-input-27-9768a2a07f8a>\u001b[0m in \u001b[0;36m<module>\u001b[0;34m()\u001b[0m\n\u001b[1;32m      4\u001b[0m           \u001b[0mvalidation_data\u001b[0m\u001b[0;34m=\u001b[0m\u001b[0;34m(\u001b[0m\u001b[0mX_vali\u001b[0m\u001b[0;34m,\u001b[0m \u001b[0my_vali\u001b[0m\u001b[0;34m)\u001b[0m\u001b[0;34m\u001b[0m\u001b[0m\n\u001b[1;32m      5\u001b[0m          )\n\u001b[0;32m----> 6\u001b[0;31m \u001b[0;32mwith\u001b[0m \u001b[0mopen\u001b[0m\u001b[0;34m(\u001b[0m\u001b[0;34m'../history/history(lstm_dropout+relu_epoch40_150_lr0.002_trainable)'\u001b[0m\u001b[0;34m,\u001b[0m \u001b[0;34m'wb'\u001b[0m\u001b[0;34m)\u001b[0m \u001b[0;32mas\u001b[0m \u001b[0mfile_pi\u001b[0m\u001b[0;34m:\u001b[0m\u001b[0;34m\u001b[0m\u001b[0m\n\u001b[0m\u001b[1;32m      7\u001b[0m         \u001b[0mpickle\u001b[0m\u001b[0;34m.\u001b[0m\u001b[0mdump\u001b[0m\u001b[0;34m(\u001b[0m\u001b[0mhistory\u001b[0m\u001b[0;34m.\u001b[0m\u001b[0mhistory\u001b[0m\u001b[0;34m,\u001b[0m \u001b[0mfile_pi\u001b[0m\u001b[0;34m)\u001b[0m\u001b[0;34m\u001b[0m\u001b[0m\n",
      "\u001b[0;31mFileNotFoundError\u001b[0m: [Errno 2] No such file or directory: '../history/history(lstm_dropout+relu_epoch40_150_lr0.002_trainable)'"
     ]
    }
   ],
   "source": [
    "history = model.fit(X_train, y_train,\n",
    "          batch_size=BATCH_SIZE,\n",
    "          epochs=N_EPOCHS,\n",
    "          validation_data=(X_vali, y_vali)\n",
    "         )\n",
    "\n"
   ]
  },
  {
   "cell_type": "code",
   "execution_count": 28,
   "metadata": {},
   "outputs": [],
   "source": [
    "with open('./history/history(lstm_dropout+relu_epoch40_150_lr0.002_trainable)', 'wb') as file_pi:\n",
    "        pickle.dump(history.history, file_pi)"
   ]
  },
  {
   "cell_type": "markdown",
   "metadata": {},
   "source": [
    "# Load Saved Model to Predict\n"
   ]
  },
  {
   "cell_type": "code",
   "execution_count": null,
   "metadata": {
    "collapsed": true
   },
   "outputs": [],
   "source": [
    "from keras import models"
   ]
  },
  {
   "cell_type": "code",
   "execution_count": null,
   "metadata": {
    "collapsed": true
   },
   "outputs": [],
   "source": [
    "model_file_path = 'saved_models/FNC-1_BASIC_LSTM_150_0.7162.h5'\n",
    "model = models.load_model(model_file_path)"
   ]
  },
  {
   "cell_type": "code",
   "execution_count": null,
   "metadata": {
    "collapsed": true
   },
   "outputs": [],
   "source": [
    "preds = model.predict()"
   ]
  },
  {
   "cell_type": "markdown",
   "metadata": {},
   "source": [
    "# lstm + Attention"
   ]
  },
  {
   "cell_type": "code",
   "execution_count": 20,
   "metadata": {},
   "outputs": [],
   "source": [
    "#reference: https://www.kaggle.com/qqgeogor/keras-lstm-attention-glove840b-lb-0-043/code\n",
    "#only attend first 15 states\n",
    "#I tried to combine the first 15states and last satates but I failed\n",
    "#I could not get to know the last cell state\n",
    "class Attention(Layer):\n",
    "    def __init__(self, attention_length = 20 ,\n",
    "                 W_regularizer=None, b_regularizer=None,\n",
    "                 W_constraint=None, b_constraint=None,\n",
    "                  **kwargs):\n",
    "\n",
    "        #self.supports_masking = True\n",
    "        #Xavier uniform initializer\n",
    "        self.init = initializers.get('glorot_uniform')\n",
    "\n",
    "        self.W_regularizer = regularizers.get(W_regularizer)\n",
    "\n",
    "        self.W_constraint = constraints.get(W_constraint)\n",
    "\n",
    "        self.attention_length = 30\n",
    "        self.features_dim = 100 \n",
    "        super(Attention, self).__init__(**kwargs)\n",
    "\n",
    "    def build(self, input_shape):\n",
    "        assert len(input_shape) == 3\n",
    "        \n",
    "        \n",
    "        self.Wy = self.add_weight((self.features_dim,self.features_dim),\n",
    "                                 initializer=self.init,\n",
    "                                 name='{}_Wy'.format(self.name),\n",
    "                                 regularizer=self.W_regularizer,\n",
    "                                 constraint=self.W_constraint)\n",
    "        \n",
    "\n",
    "        \n",
    "        self.Wh = self.add_weight((self.features_dim,self.features_dim),\n",
    "                                     initializer=self.init,\n",
    "                                     name='{}_Wh'.format(self.name),\n",
    "                                     regularizer=self.W_regularizer,\n",
    "                                     constraint=self.W_constraint)\n",
    "\n",
    "        self.w = self.add_weight((self.features_dim,1),\n",
    "                                     initializer=self.init,\n",
    "                                     name='{}_x'.format(self.name),\n",
    "                                     regularizer=self.W_regularizer,\n",
    "                                     constraint=self.W_constraint)\n",
    "\n",
    "        self.Wp = self.add_weight((self.features_dim,self.features_dim),\n",
    "                                     initializer=self.init,\n",
    "                                     name='{}_Wp'.format(self.name),\n",
    "                                     regularizer=self.W_regularizer,\n",
    "                                     constraint=self.W_constraint)\n",
    "        \n",
    "        self.Wx = self.add_weight((self.features_dim,self.features_dim),\n",
    "                                     initializer=self.init,\n",
    "                                     name='{}_Wx'.format(self.name),\n",
    "                                     regularizer=self.W_regularizer,\n",
    "                                     constraint=self.W_constraint)\n",
    "\n",
    "        self.built = True\n",
    "\n",
    "    def compute_mask(self, input, input_mask=None):\n",
    "        # do not pass the mask to the next layers\n",
    "        return None\n",
    "\n",
    "    def call(self, x, mask=None):\n",
    "        \n",
    "        Y_states = tf.slice(x, begin = [0, 0, 0], size = [-1, self.attention_length, -1]) #15 first states\n",
    "        h_state = x[:,-1,:]\n",
    "        print (\"h_state\",h_state.shape)\n",
    "        #print (\"wh\", self.Wh.shape)\n",
    "        features_dim = self.features_dim\n",
    "\n",
    "        M1 = K.reshape(K.dot(K.reshape(Y_states, (-1, features_dim)), self.Wy),shape = (-1,self.attention_length,features_dim ))\n",
    "        #print(\"here\")\n",
    "        M2 = K.expand_dims(K.dot(h_state, self.Wh),axis=1)\n",
    "        M = K.tanh(M1+M2)\n",
    "        #print(\"here2\")\n",
    "        alpha = K.reshape(K.softmax(K.dot(K.reshape(M, shape = (-1, features_dim)), self.w)), shape = (-1, self.attention_length))\n",
    "        r = tf.squeeze(tf.matmul(tf.transpose(tf.expand_dims(alpha, 2), perm = [0, 2, 1]), Y_states))\n",
    "        h_star = tf.tanh(tf.matmul(r, self.Wp) + tf.matmul(h_state, self.Wx))\n",
    "        \n",
    "\n",
    "        return h_star\n",
    "\n",
    "    def compute_output_shape(self, input_shape):\n",
    "        #return input_shape[0], input_shape[-1]\n",
    "        return input_shape[0],  self.features_dim\n",
    "        \n"
   ]
  },
  {
   "cell_type": "code",
   "execution_count": 21,
   "metadata": {},
   "outputs": [
    {
     "name": "stdout",
     "output_type": "stream",
     "text": [
      "h_state (?, 100)\n"
     ]
    }
   ],
   "source": [
    "# Build a sequential model by stacking neural net units \n",
    "#dense layer: simply a layer connect units \n",
    "#dropout layer: for reduce overfitting a regularization methhod\n",
    "model_2 = Sequential()\n",
    "model_2.add(Embedding(input_dim=len(tokenizer.word_index)+1, input_length = MAX_SENT_LEN,\n",
    "                          output_dim=EMBEDDING_DIM,\n",
    "                          weights = [embeddings_matrix], trainable= True, name='word_embedding_layer', \n",
    "                          mask_zero=True)) # trainable=True results in overfitting\n",
    "\n",
    "model_2.add(LSTM(LSTM_DIM, return_sequences=True, name='lstm_layer')) # Can try Bidirectional-LSTM\n",
    "model_2.add(Dropout(rate=0.8, name='dropout_1')) # Can try varying dropout rates, in paper suggest 0.2\n",
    "#model.add(Activation(activation='relu', name='activation_1'))\n",
    "#output (batch_size, timesteps, input_dim)\n",
    "model_2.add(Attention())\n",
    "model_2.add(Dense(4, activation='softmax', name='output_layer'))"
   ]
  },
  {
   "cell_type": "code",
   "execution_count": 22,
   "metadata": {},
   "outputs": [
    {
     "name": "stdout",
     "output_type": "stream",
     "text": [
      "_________________________________________________________________\n",
      "Layer (type)                 Output Shape              Param #   \n",
      "=================================================================\n",
      "word_embedding_layer (Embedd (None, 300, 50)           1768800   \n",
      "_________________________________________________________________\n",
      "lstm_layer (LSTM)            (None, 300, 100)          60400     \n",
      "_________________________________________________________________\n",
      "dropout_1 (Dropout)          (None, 300, 100)          0         \n",
      "_________________________________________________________________\n",
      "attention_1 (Attention)      (None, 100)               40100     \n",
      "_________________________________________________________________\n",
      "output_layer (Dense)         (None, 4)                 404       \n",
      "=================================================================\n",
      "Total params: 1,869,704\n",
      "Trainable params: 1,869,704\n",
      "Non-trainable params: 0\n",
      "_________________________________________________________________\n"
     ]
    }
   ],
   "source": [
    "model_2.summary()"
   ]
  },
  {
   "cell_type": "code",
   "execution_count": 23,
   "metadata": {},
   "outputs": [],
   "source": [
    "optimizer = optimizers.Adam(lr=0.001) # Try a different learning rate\n",
    "\n",
    "model_2.compile(loss='categorical_crossentropy',\n",
    "              optimizer=optimizer,\n",
    "              metrics=['accuracy'])"
   ]
  },
  {
   "cell_type": "code",
   "execution_count": 24,
   "metadata": {},
   "outputs": [],
   "source": [
    "#CALLBACK FUCTION: TO SAVE MODEL FOR EVERY EPOCH END\n",
    "filepath=\"./result/attention/epoch_40/FNC-1_LSTM_Attention_15Atlength_300_trainable_lr=0.001_{epoch:02d}_{val_acc:.4f}.h5\"\n",
    "checkpoint = callbacks.ModelCheckpoint(filepath, \n",
    "                                       monitor='val_acc', \n",
    "                                       verbose=0, \n",
    "                                       save_best_only=True)\n",
    "\n",
    "callbacks_list2 = [checkpoint]"
   ]
  },
  {
   "cell_type": "code",
   "execution_count": 27,
   "metadata": {
    "scrolled": false
   },
   "outputs": [
    {
     "name": "stdout",
     "output_type": "stream",
     "text": [
      "Train on 60009 samples, validate on 6668 samples\n",
      "Epoch 1/40\n",
      "60009/60009 [==============================] - 189s 3ms/step - loss: 0.4950 - acc: 0.8130 - val_loss: 0.4397 - val_acc: 0.8358\n",
      "Epoch 2/40\n",
      "60009/60009 [==============================] - 189s 3ms/step - loss: 0.4097 - acc: 0.8455 - val_loss: 0.3927 - val_acc: 0.8505\n",
      "Epoch 3/40\n",
      "60009/60009 [==============================] - 189s 3ms/step - loss: 0.3535 - acc: 0.8666 - val_loss: 0.3542 - val_acc: 0.8721\n",
      "Epoch 4/40\n",
      "60009/60009 [==============================] - 189s 3ms/step - loss: 0.3118 - acc: 0.8831 - val_loss: 0.3409 - val_acc: 0.8697\n",
      "Epoch 5/40\n",
      "60009/60009 [==============================] - 189s 3ms/step - loss: 0.2818 - acc: 0.8943 - val_loss: 0.3128 - val_acc: 0.8827\n",
      "Epoch 6/40\n",
      "60009/60009 [==============================] - 189s 3ms/step - loss: 0.2552 - acc: 0.9032 - val_loss: 0.2914 - val_acc: 0.8902\n",
      "Epoch 7/40\n",
      "60009/60009 [==============================] - 190s 3ms/step - loss: 0.2291 - acc: 0.9136 - val_loss: 0.2729 - val_acc: 0.9031\n",
      "Epoch 8/40\n",
      "60009/60009 [==============================] - 189s 3ms/step - loss: 0.2102 - acc: 0.9208 - val_loss: 0.2737 - val_acc: 0.8994\n",
      "Epoch 9/40\n",
      "60009/60009 [==============================] - 190s 3ms/step - loss: 0.1943 - acc: 0.9267 - val_loss: 0.2561 - val_acc: 0.9055\n",
      "Epoch 10/40\n",
      "60009/60009 [==============================] - 190s 3ms/step - loss: 0.1815 - acc: 0.9311 - val_loss: 0.2471 - val_acc: 0.9112\n",
      "Epoch 11/40\n",
      "60009/60009 [==============================] - 190s 3ms/step - loss: 0.1692 - acc: 0.9346 - val_loss: 0.2355 - val_acc: 0.9159\n",
      "Epoch 12/40\n",
      "60009/60009 [==============================] - 195s 3ms/step - loss: 0.1566 - acc: 0.9406 - val_loss: 0.2374 - val_acc: 0.9210\n",
      "Epoch 13/40\n",
      "60009/60009 [==============================] - 198s 3ms/step - loss: 0.1468 - acc: 0.9447 - val_loss: 0.2304 - val_acc: 0.9205\n",
      "Epoch 14/40\n",
      "60009/60009 [==============================] - 190s 3ms/step - loss: 0.1395 - acc: 0.9457 - val_loss: 0.2408 - val_acc: 0.9159\n",
      "Epoch 15/40\n",
      "60009/60009 [==============================] - 191s 3ms/step - loss: 0.1307 - acc: 0.9501 - val_loss: 0.2270 - val_acc: 0.9240\n",
      "Epoch 16/40\n",
      "60009/60009 [==============================] - 190s 3ms/step - loss: 0.1220 - acc: 0.9529 - val_loss: 0.2297 - val_acc: 0.9258\n",
      "Epoch 17/40\n",
      "60009/60009 [==============================] - 190s 3ms/step - loss: 0.1202 - acc: 0.9535 - val_loss: 0.2135 - val_acc: 0.9265\n",
      "Epoch 18/40\n",
      "60009/60009 [==============================] - 190s 3ms/step - loss: 0.1096 - acc: 0.9584 - val_loss: 0.2171 - val_acc: 0.9289\n",
      "Epoch 19/40\n",
      "60009/60009 [==============================] - 190s 3ms/step - loss: 0.1028 - acc: 0.9610 - val_loss: 0.2079 - val_acc: 0.9343\n",
      "Epoch 20/40\n",
      "60009/60009 [==============================] - 190s 3ms/step - loss: 0.0987 - acc: 0.9633 - val_loss: 0.2038 - val_acc: 0.9381\n",
      "Epoch 21/40\n",
      "60009/60009 [==============================] - 194s 3ms/step - loss: 0.0921 - acc: 0.9644 - val_loss: 0.2121 - val_acc: 0.9324\n",
      "Epoch 22/40\n",
      "60009/60009 [==============================] - 190s 3ms/step - loss: 0.0882 - acc: 0.9662 - val_loss: 0.2219 - val_acc: 0.9340\n",
      "Epoch 23/40\n",
      "60009/60009 [==============================] - 192s 3ms/step - loss: 0.0846 - acc: 0.9681 - val_loss: 0.2140 - val_acc: 0.9366\n",
      "Epoch 24/40\n",
      "60009/60009 [==============================] - 190s 3ms/step - loss: 0.0791 - acc: 0.9704 - val_loss: 0.2119 - val_acc: 0.9387\n",
      "Epoch 25/40\n",
      "60009/60009 [==============================] - 190s 3ms/step - loss: 0.0775 - acc: 0.9706 - val_loss: 0.2075 - val_acc: 0.9400\n",
      "Epoch 26/40\n",
      "60009/60009 [==============================] - 190s 3ms/step - loss: 0.0746 - acc: 0.9726 - val_loss: 0.2330 - val_acc: 0.9379\n",
      "Epoch 27/40\n",
      "60009/60009 [==============================] - 190s 3ms/step - loss: 0.0705 - acc: 0.9741 - val_loss: 0.2257 - val_acc: 0.9402\n",
      "Epoch 28/40\n",
      "60009/60009 [==============================] - 190s 3ms/step - loss: 0.0658 - acc: 0.9765 - val_loss: 0.2173 - val_acc: 0.9399\n",
      "Epoch 29/40\n",
      "60009/60009 [==============================] - 190s 3ms/step - loss: 0.0613 - acc: 0.9770 - val_loss: 0.2299 - val_acc: 0.9417\n",
      "Epoch 30/40\n",
      "60009/60009 [==============================] - 190s 3ms/step - loss: 0.0597 - acc: 0.9781 - val_loss: 0.2310 - val_acc: 0.9450\n",
      "Epoch 31/40\n",
      "60009/60009 [==============================] - 190s 3ms/step - loss: 0.0604 - acc: 0.9785 - val_loss: 0.2051 - val_acc: 0.9474\n",
      "Epoch 32/40\n",
      "60009/60009 [==============================] - 190s 3ms/step - loss: 0.0535 - acc: 0.9815 - val_loss: 0.2223 - val_acc: 0.9421\n",
      "Epoch 33/40\n",
      "60009/60009 [==============================] - 190s 3ms/step - loss: 0.0516 - acc: 0.9815 - val_loss: 0.2247 - val_acc: 0.9465\n",
      "Epoch 34/40\n",
      "60009/60009 [==============================] - 190s 3ms/step - loss: 0.0480 - acc: 0.9830 - val_loss: 0.2294 - val_acc: 0.9451\n",
      "Epoch 35/40\n",
      "60009/60009 [==============================] - 190s 3ms/step - loss: 0.0463 - acc: 0.9831 - val_loss: 0.2223 - val_acc: 0.9466\n",
      "Epoch 36/40\n",
      "60009/60009 [==============================] - 190s 3ms/step - loss: 0.0479 - acc: 0.9836 - val_loss: 0.2349 - val_acc: 0.9460\n",
      "Epoch 37/40\n",
      "60009/60009 [==============================] - 190s 3ms/step - loss: 0.0455 - acc: 0.9844 - val_loss: 0.2181 - val_acc: 0.9474\n",
      "Epoch 38/40\n",
      "60009/60009 [==============================] - 190s 3ms/step - loss: 0.0452 - acc: 0.9845 - val_loss: 0.2310 - val_acc: 0.9471\n",
      "Epoch 39/40\n",
      "60009/60009 [==============================] - 190s 3ms/step - loss: 0.0406 - acc: 0.9859 - val_loss: 0.2751 - val_acc: 0.9396\n",
      "Epoch 40/40\n",
      "60009/60009 [==============================] - 190s 3ms/step - loss: 0.0400 - acc: 0.9859 - val_loss: 0.2267 - val_acc: 0.9477\n"
     ]
    }
   ],
   "source": [
    "#%%capture history_12\n",
    "# history1 = model_1.fit(X_train, y_train,\n",
    "#           batch_size=BATCH_SIZE,\n",
    "#           epochs=N_EPOCHS,\n",
    "#           validation_data=(X_vali, y_vali),\n",
    "#           callbacks = callbacks_list1)\n",
    "history2 = model_2.fit(X_train, y_train,\n",
    "          batch_size=BATCH_SIZE,\n",
    "          epochs=N_EPOCHS,\n",
    "          validation_data=(X_vali, y_vali),\n",
    "          callbacks = callbacks_list2)\n",
    "\n",
    "        \n"
   ]
  },
  {
   "cell_type": "code",
   "execution_count": 72,
   "metadata": {},
   "outputs": [
    {
     "data": {
      "text/plain": [
       "[<matplotlib.lines.Line2D at 0x7f91af16dda0>]"
      ]
     },
     "execution_count": 72,
     "metadata": {},
     "output_type": "execute_result"
    },
    {
     "data": {
      "image/png": "[encoded data removed]",
      "text/plain": [
       "<Figure size 432x288 with 1 Axes>"
      ]
     },
     "metadata": {},
     "output_type": "display_data"
    }
   ],
   "source": [
    "plt.plot(history2['val_acc'])"
   ]
  },
  {
   "cell_type": "code",
   "execution_count": null,
   "metadata": {},
   "outputs": [],
   "source": []
  }
 ],
 "metadata": {
  "kernelspec": {
   "display_name": "Python 3",
   "language": "python",
   "name": "python3"
  },
  "language_info": {
   "codemirror_mode": {
    "name": "ipython",
    "version": 3
   },
   "file_extension": ".py",
   "mimetype": "text/x-python",
   "name": "python",
   "nbconvert_exporter": "python",
   "pygments_lexer": "ipython3",
   "version": "3.6.6"
  }
 },
 "nbformat": 4,
 "nbformat_minor": 2
}
