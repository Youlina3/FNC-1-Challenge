{
 "cells": [
  {
   "cell_type": "code",
   "execution_count": 264,
   "metadata": {},
   "outputs": [],
   "source": [
    "import gensim\n",
    "import numpy as np\n",
    "import pandas as pd\n",
    "import os\n",
    "import re\n",
    "import csv\n",
    "import codecs\n",
    "import sys\n",
    "import pickle\n",
    "\n",
    "from gensim.scripts.glove2word2vec import glove2word2vec\n",
    "from gensim.models import KeyedVectors\n",
    "from sklearn.model_selection import train_test_split\n",
    "\n",
    "from keras import callbacks\n",
    "from keras import optimizers\n",
    "from keras.models import Sequential, Model\n",
    "from keras.layers import concatenate,Input, Dense, LSTM, Embedding, Dropout, BatchNormalization, Activation, Bidirectional\n",
    "from keras.layers.merge import concatenate\n",
    "from keras.layers.normalization import BatchNormalization\n",
    "from keras.preprocessing.text import text_to_word_sequence, Tokenizer\n",
    "from keras.preprocessing.sequence import pad_sequences\n",
    "\n",
    "import matplotlib as mpl\n",
    "%matplotlib inline\n",
    "from matplotlib import pyplot as plt\n",
    "from keras.utils import plot_model \n",
    "from IPython.display import Image\n",
    "import pydot\n",
    "from sklearn.preprocessing import LabelEncoder\n",
    "from keras.utils import np_utils\n",
    "import tensorflow as tf\n",
    "\n",
    "tf_config = tf.ConfigProto()\n",
    "tf_config.gpu_options.allow_growth = True\n",
    "sess = tf.Session(config=tf_config)\n",
    "\n",
    "\n",
    "\n",
    "from nltk.stem import SnowballStemmer\n",
    "\n",
    "from string import punctuation\n",
    "\n",
    "from keras import backend as K\n",
    "from keras.engine.topology import Layer\n",
    "#from keras import initializations\n",
    "from keras import initializers, regularizers, constraints\n"
   ]
  },
  {
   "cell_type": "code",
   "execution_count": 294,
   "metadata": {},
   "outputs": [],
   "source": [
    "# Specify the folder locations\n",
    "#W2V_DIR = './data/GoogleNews-vectors-negative300.bin' #\n",
    "GloVe_DIR = './data/glove.twitter.27B.50d.txt'\n",
    "#the data directory\n",
    "DATA_DIR = './data'\n",
    "# These are some hyperparameters that can be tuned\n",
    "MAX_SENT_LEN_HEAD = 15 \n",
    "MAX_SENT_LEN_BODY = 75 #75(0.68), 150, 300 700(90% but too time comsuming)\n",
    "MAX_VOCAB_SIZE = 40000 #vocabulary\n",
    "LSTM_DIM = 100 #units\n",
    "EMBEDDING_DIM = 50 #50 for GloVe 300 for w2v\n",
    "BATCH_SIZE = 128\n",
    "N_EPOCHS = 40 #40\n"
   ]
  },
  {
   "cell_type": "code",
   "execution_count": 295,
   "metadata": {},
   "outputs": [],
   "source": [
    "# fix random seed for reproducibility\n",
    "seed = 1\n",
    "np.random.seed(seed)"
   ]
  },
  {
   "cell_type": "code",
   "execution_count": 296,
   "metadata": {},
   "outputs": [],
   "source": [
    "# Read the text files of fnc data\n",
    "bodies = pd.read_csv(DATA_DIR + '/body_table.csv')\n",
    "    \n",
    "train_df = pd.read_csv(DATA_DIR + '/train_data.csv')\n",
    "\n",
    "#validation_df = pd.read_csv(DATA_DIR + '/validation_data.csv')\n",
    "\n",
    "\n",
    "test_df = pd.read_csv(DATA_DIR + '/test_data.csv')"
   ]
  },
  {
   "cell_type": "code",
   "execution_count": 297,
   "metadata": {},
   "outputs": [],
   "source": [
    "train_df.replace('unrelated',0,True)\n",
    "train_df.replace('agree',1,True)\n",
    "train_df.replace('disagree',2,True)\n",
    "train_df.replace('discuss',3,True)\n",
    "# validation_df.replace('unrelated',0,True)\n",
    "# validation_df.replace('agree',1,True)\n",
    "# validation_df.replace('disagree',2,True)\n",
    "# validation_df.replace('discuss',3,True)\n",
    "test_df.replace('unrelated',0,True)\n",
    "test_df.replace('agree',1,True)\n",
    "test_df.replace('disagree',2,True)\n",
    "test_df.replace('discuss',3,True)"
   ]
  },
  {
   "cell_type": "code",
   "execution_count": 298,
   "metadata": {},
   "outputs": [],
   "source": [
    "combine_df_train = train_df.join(bodies.set_index('Body ID'), on='Body ID')\n",
    "#combine_df_vali = validation_df.join(bodies.set_index('Body ID'), on='Body ID')\n",
    "combine_df_test = test_df.join(bodies.set_index('Body ID'), on='Body ID')"
   ]
  },
  {
   "cell_type": "code",
   "execution_count": 299,
   "metadata": {},
   "outputs": [],
   "source": [
    "# Pre-processing involves removal of puctuations and converting text to lower case\n",
    "word_seq_head_train = [text_to_word_sequence(head) for head in combine_df_train['Headline']]\n",
    "word_seq_bodies_train = [text_to_word_sequence(body) for body in combine_df_train['articleBody']]"
   ]
  },
  {
   "cell_type": "code",
   "execution_count": 300,
   "metadata": {},
   "outputs": [],
   "source": [
    "word_seq_head_test = [text_to_word_sequence(head) for head in combine_df_test['Headline']]\n",
    "word_seq_bodies_test = [text_to_word_sequence(body) for body in combine_df_test['articleBody']]"
   ]
  },
  {
   "cell_type": "code",
   "execution_count": 301,
   "metadata": {},
   "outputs": [
    {
     "data": {
      "text/plain": [
       "['israeli',\n",
       " 'report',\n",
       " 'sisi',\n",
       " 'offered',\n",
       " 'abbas',\n",
       " 'a',\n",
       " 'palestinian',\n",
       " 'state',\n",
       " 'in',\n",
       " 'sinai']"
      ]
     },
     "execution_count": 301,
     "metadata": {},
     "output_type": "execute_result"
    }
   ],
   "source": [
    "word_seq_head_train[6365]"
   ]
  },
  {
   "cell_type": "code",
   "execution_count": 302,
   "metadata": {},
   "outputs": [
    {
     "data": {
      "text/plain": [
       "['microsoft', 'will', 'buy', 'mojang', 'ab']"
      ]
     },
     "execution_count": 302,
     "metadata": {},
     "output_type": "execute_result"
    }
   ],
   "source": [
    "word_seq_bodies_train[6365]"
   ]
  },
  {
   "cell_type": "markdown",
   "metadata": {},
   "source": [
    "# one tokenizer\n"
   ]
  },
  {
   "cell_type": "code",
   "execution_count": 303,
   "metadata": {},
   "outputs": [],
   "source": [
    "word_seq = []\n",
    "\n",
    "for i in range(len(word_seq_head_train)):\n",
    "    word_seq.append(word_seq_head_train[i])\n",
    "for i in range(len(word_seq_bodies_train)):\n",
    "    word_seq.append(word_seq_bodies_train[i])\n",
    "\n",
    "\n",
    "for i in range(len(word_seq_head_test)):\n",
    "    word_seq.append(word_seq_head_test[i])\n",
    "for i in range(len(word_seq_bodies_test)):\n",
    "    word_seq.append(word_seq_bodies_test[i])\n",
    "\n"
   ]
  },
  {
   "cell_type": "code",
   "execution_count": 304,
   "metadata": {},
   "outputs": [
    {
     "name": "stdout",
     "output_type": "stream",
     "text": [
      "Number of words in vocabulary: 35375\n"
     ]
    }
   ],
   "source": [
    "filter_list = '!\"\\'#$%&()*+,-./:;<=>?@[\\\\]^_`{|}~\\t\\n'\n",
    "\n",
    "tokenizer = Tokenizer(num_words=MAX_VOCAB_SIZE, filters=filter_list)\n",
    "tokenizer.fit_on_texts([seq for seq in word_seq])\n",
    "\n",
    "print(\"Number of words in vocabulary:\", len(tokenizer.word_index))"
   ]
  },
  {
   "cell_type": "code",
   "execution_count": 305,
   "metadata": {},
   "outputs": [
    {
     "data": {
      "text/plain": [
       "['israeli',\n",
       " 'report',\n",
       " 'sisi',\n",
       " 'offered',\n",
       " 'abbas',\n",
       " 'a',\n",
       " 'palestinian',\n",
       " 'state',\n",
       " 'in',\n",
       " 'sinai']"
      ]
     },
     "execution_count": 305,
     "metadata": {},
     "output_type": "execute_result"
    }
   ],
   "source": [
    "word_seq_head_train[6365]"
   ]
  },
  {
   "cell_type": "code",
   "execution_count": 306,
   "metadata": {},
   "outputs": [
    {
     "data": {
      "text/plain": [
       "['microsoft', 'will', 'buy', 'mojang', 'ab']"
      ]
     },
     "execution_count": 306,
     "metadata": {},
     "output_type": "execute_result"
    }
   ],
   "source": [
    "word_seq_bodies_train[6365]"
   ]
  },
  {
   "cell_type": "code",
   "execution_count": 307,
   "metadata": {},
   "outputs": [
    {
     "name": "stdout",
     "output_type": "stream",
     "text": [
      "[1211, 39, 1186, 3160, 15538]\n",
      "[ 1211    39  1186  3160 15538     0     0     0     0     0     0     0\n",
      "     0     0     0     0     0     0     0     0     0     0     0     0\n",
      "     0     0     0     0     0     0     0     0     0     0     0     0\n",
      "     0     0     0     0     0     0     0     0     0     0     0     0\n",
      "     0     0     0     0     0     0     0     0     0     0     0     0\n",
      "     0     0     0     0     0     0     0     0     0     0     0     0\n",
      "     0     0     0]\n"
     ]
    }
   ],
   "source": [
    "# Convert the sequence of words to sequnce of indices\n",
    "X_train_HEAD = tokenizer.texts_to_sequences([' '.join(seq[:MAX_SENT_LEN_HEAD]) for seq in word_seq_head_train])\n",
    "# list of list; join is to extend the list\n",
    "X_train_HEAD = pad_sequences(X_train_HEAD, maxlen=MAX_SENT_LEN_HEAD, padding='post', truncating='post')\n",
    "# y has already to be convert to 1,0 sequence\n",
    "X_train_BODY = tokenizer.texts_to_sequences([' '.join(seq[:MAX_SENT_LEN_BODY]) for seq in word_seq_bodies_train])\n",
    "print(X_train_BODY[6365])\n",
    "X_train_BODY = pad_sequences(X_train_BODY, maxlen=MAX_SENT_LEN_BODY, padding='post', truncating='post')\n",
    "print(X_train_BODY[6365])\n",
    "y_train = combine_df_train['Stance']\n",
    "#finishing time: 1 min"
   ]
  },
  {
   "cell_type": "code",
   "execution_count": 308,
   "metadata": {},
   "outputs": [
    {
     "data": {
      "text/plain": [
       "array([ 661,   98, 3830, 1111, 4152,    3, 2870,   53,    5, 2670,    0,\n",
       "          0,    0,    0,    0], dtype=int32)"
      ]
     },
     "execution_count": 308,
     "metadata": {},
     "output_type": "execute_result"
    }
   ],
   "source": [
    "X_train_HEAD[6365]"
   ]
  },
  {
   "cell_type": "code",
   "execution_count": 309,
   "metadata": {
    "scrolled": true
   },
   "outputs": [
    {
     "data": {
      "text/plain": [
       "array([ 1211,    39,  1186,  3160, 15538,     0,     0,     0,     0,\n",
       "           0,     0,     0,     0,     0,     0,     0,     0,     0,\n",
       "           0,     0,     0,     0,     0,     0,     0,     0,     0,\n",
       "           0,     0,     0,     0,     0,     0,     0,     0,     0,\n",
       "           0,     0,     0,     0,     0,     0,     0,     0,     0,\n",
       "           0,     0,     0,     0,     0,     0,     0,     0,     0,\n",
       "           0,     0,     0,     0,     0,     0,     0,     0,     0,\n",
       "           0,     0,     0,     0,     0,     0,     0,     0,     0,\n",
       "           0,     0,     0], dtype=int32)"
      ]
     },
     "execution_count": 309,
     "metadata": {},
     "output_type": "execute_result"
    }
   ],
   "source": [
    "X_train_BODY[6365]"
   ]
  },
  {
   "cell_type": "code",
   "execution_count": 310,
   "metadata": {},
   "outputs": [],
   "source": [
    "# Convert the sequence of words to sequnce of indices\n",
    "X_test_HEAD = tokenizer.texts_to_sequences([' '.join(seq[:MAX_SENT_LEN_HEAD]) for seq in word_seq_head_test])\n",
    "# list of list; join is to extend the list\n",
    "X_test_HEAD = pad_sequences(X_test_HEAD, maxlen=MAX_SENT_LEN_HEAD, padding='post', truncating='post')\n",
    "# y has already to be convert to 1,0 sequence\n",
    "X_test_BODY = tokenizer.texts_to_sequences([' '.join(seq[:MAX_SENT_LEN_BODY]) for seq in word_seq_bodies_test])\n",
    "X_test_BODY = pad_sequences(X_test_BODY, maxlen=MAX_SENT_LEN_BODY, padding='post', truncating='post')\n",
    "#finishing time: 1 min"
   ]
  },
  {
   "cell_type": "code",
   "execution_count": 311,
   "metadata": {},
   "outputs": [],
   "source": [
    "#encode class values as integers\n",
    "encoder_train = LabelEncoder()\n",
    "encoder_train.fit(y_train)\n",
    "encoded_train = encoder_train.transform(y_train)\n",
    "# convert integers to dummy variables (i.e. one hot encoded)\n",
    "dummy_y_train = np_utils.to_categorical(encoded_train)"
   ]
  },
  {
   "cell_type": "code",
   "execution_count": 312,
   "metadata": {},
   "outputs": [],
   "source": [
    "X_train_HEAD, X_vali_HEAD, X_train_BODY, X_vali_BODY, y_train, y_vali = train_test_split(X_train_HEAD,X_train_BODY, dummy_y_train, random_state=10, test_size=0.1)"
   ]
  },
  {
   "cell_type": "code",
   "execution_count": 313,
   "metadata": {},
   "outputs": [],
   "source": [
    "#GloVes Load\n",
    "glove_input_file = GloVe_DIR\n",
    "word2vec_output_file = 'glove.50d.txt.word2vec'\n",
    "glove2word2vec(glove_input_file, word2vec_output_file)\n",
    "embeddings = gensim.models.KeyedVectors.load_word2vec_format(word2vec_output_file, binary=False)"
   ]
  },
  {
   "cell_type": "code",
   "execution_count": 314,
   "metadata": {},
   "outputs": [],
   "source": [
    "# Create an embedding matrix containing only the word's in our vocabulary\n",
    "# If the word does not have a pre-trained embedding, then randomly initialize the embedding\n",
    "embeddings_matrix = np.random.uniform(-0.05, 0.05, size=(len(tokenizer.word_index)+1, EMBEDDING_DIM)) # +1 is because the matrix indices start with 0\n",
    "for word, i in tokenizer.word_index.items(): # i=0 is the embedding for the zero padding\n",
    "    try:\n",
    "        embeddings_vector = embeddings[word]\n",
    "    except KeyError:\n",
    "        embeddings_vector = None\n",
    "        #word 是sentence里的\n",
    "        #none: if sentence里的word没有对应的pre-trained embedding 那么就有keyerror了\n",
    "    if embeddings_vector is not None:\n",
    "        embeddings_matrix[i] = embeddings_vector\n",
    "        #如果存在pre-trained word embedding，那么把这个embedding给到embedding_matrix里\n",
    "        #embeddings_matrix的第i行对应Wi\n",
    "        \n",
    "del embeddings\n",
    "#delete"
   ]
  },
  {
   "cell_type": "markdown",
   "metadata": {},
   "source": [
    "# Building Model"
   ]
  },
  {
   "cell_type": "code",
   "execution_count": 315,
   "metadata": {},
   "outputs": [],
   "source": [
    "headline_embedding_layer = Embedding(len(tokenizer.word_index) + 1,\n",
    "                            EMBEDDING_DIM,\n",
    "                            weights=[embeddings_matrix],\n",
    "                            input_length=MAX_SENT_LEN_HEAD,\n",
    "                            trainable=True,mask_zero=True)\n"
   ]
  },
  {
   "cell_type": "code",
   "execution_count": 316,
   "metadata": {},
   "outputs": [],
   "source": [
    "headline_sequence_input = Input(shape=(MAX_SENT_LEN_HEAD,))\n",
    "embedded_headline = headline_embedding_layer(headline_sequence_input)\n",
    "headline_lstm = LSTM(100, recurrent_dropout = 0.8, return_sequences = True, return_state = True)\n",
    "encoder_outputs, state_h, state_c = headline_lstm(embedded_headline)\n",
    "#encoder_outputs for attention Y\n",
    "encoder_states = [state_h, state_c]\n",
    "\n"
   ]
  },
  {
   "cell_type": "code",
   "execution_count": 317,
   "metadata": {},
   "outputs": [],
   "source": [
    "article_embedding_layer = Embedding(len(tokenizer.word_index) + 1,\n",
    "                            EMBEDDING_DIM,\n",
    "                            weights=[embeddings_matrix],\n",
    "                            input_length=MAX_SENT_LEN_BODY,\n",
    "                            trainable=True,mask_zero=True)"
   ]
  },
  {
   "cell_type": "code",
   "execution_count": 318,
   "metadata": {},
   "outputs": [],
   "source": [
    "article_sequence_input = Input(shape=(MAX_SENT_LEN_BODY,))\n",
    "embedded_article = article_embedding_layer(article_sequence_input)\n",
    "article_lstm = LSTM(100, return_sequences = True)\n",
    "encoded_article = article_lstm(embedded_article,initial_state=encoder_states)\n",
    "encoded_article = Dropout(.8)(encoded_article)"
   ]
  },
  {
   "cell_type": "code",
   "execution_count": 319,
   "metadata": {},
   "outputs": [],
   "source": [
    "#only attend first 15 states\n",
    "\n",
    "class Attention(Layer):\n",
    "    def __init__(self, attention_length = 15 ,\n",
    "                 W_regularizer=None, \n",
    "                 W_constraint=None, \n",
    "                  **kwargs):\n",
    "\n",
    "        #self.supports_masking = True\n",
    "        #Xavier uniform initializer\n",
    "        self.init = initializers.get('glorot_uniform')\n",
    "\n",
    "        self.W_regularizer = regularizers.get(W_regularizer)\n",
    "\n",
    "        self.W_constraint = constraints.get(W_constraint)\n",
    "\n",
    "        self.attention_length = 15\n",
    "        self.features_dim = 100 \n",
    "        super(Attention, self).__init__(**kwargs)\n",
    "\n",
    "    def build(self, input_shape):        \n",
    "        \n",
    "        self.Wy = self.add_weight((self.features_dim,self.features_dim),\n",
    "                                 initializer=self.init,\n",
    "                                 name='{}_Wy'.format(self.name),\n",
    "                                 regularizer=self.W_regularizer,\n",
    "                                 constraint=self.W_constraint)\n",
    "        \n",
    "\n",
    "        \n",
    "        self.Wh = self.add_weight((self.features_dim,self.features_dim),\n",
    "                                     initializer=self.init,\n",
    "                                     name='{}_Wh'.format(self.name),\n",
    "                                     regularizer=self.W_regularizer,\n",
    "                                     constraint=self.W_constraint)\n",
    "\n",
    "        self.w = self.add_weight((self.features_dim,1),\n",
    "                                     initializer=self.init,\n",
    "                                     name='{}_x'.format(self.name),\n",
    "                                     regularizer=self.W_regularizer,\n",
    "                                     constraint=self.W_constraint)\n",
    "\n",
    "        self.Wp = self.add_weight((self.features_dim,self.features_dim),\n",
    "                                     initializer=self.init,\n",
    "                                     name='{}_Wp'.format(self.name),\n",
    "                                     regularizer=self.W_regularizer,\n",
    "                                     constraint=self.W_constraint)\n",
    "        \n",
    "        self.Wx = self.add_weight((self.features_dim,self.features_dim),\n",
    "                                     initializer=self.init,\n",
    "                                     name='{}_Wx'.format(self.name),\n",
    "                                     regularizer=self.W_regularizer,\n",
    "                                     constraint=self.W_constraint)\n",
    "\n",
    "        self.built = True\n",
    "\n",
    "    def compute_mask(self, input, input_mask=None):\n",
    "        # do not pass the mask to the next layers\n",
    "        return None\n",
    "\n",
    "    def call(self, x, mask=None):\n",
    "        \n",
    "        #x is a list containing the output hidden layers of first LSTM(), and the final state of seconde LSTM(body)\n",
    "        Y_states = tf.slice(x[0], begin = [0, 0, 0], size = [-1, self.attention_length, -1]) #outputs of headline states\n",
    "        h_state = x[1][:,-1,:] #output state of article lstm\n",
    "        print (\"Y_states\", Y_states.shape)\n",
    "        print (\"h_state\",h_state.shape)\n",
    "        \n",
    "        features_dim = self.features_dim\n",
    "       \n",
    "\n",
    "        M1 = K.reshape(K.dot(K.reshape(Y_states, (-1, features_dim)), self.Wy),shape = (-1,self.attention_length,features_dim ))\n",
    "        M2 = K.expand_dims(K.dot(h_state, self.Wh),axis=1)\n",
    "        M = K.tanh(M1+M2)\n",
    "        alpha = K.reshape(K.softmax(K.dot(K.reshape(M, shape = (-1, features_dim)), self.w)), shape = (-1, self.attention_length))\n",
    "        r = tf.squeeze(tf.matmul(tf.transpose(tf.expand_dims(alpha, 2), perm = [0, 2, 1]), Y_states))\n",
    "        h_star = tf.tanh(tf.matmul(r, self.Wp) + tf.matmul(h_state, self.Wx))\n",
    "        \n",
    "\n",
    "        return h_star\n",
    "\n",
    "    def compute_output_shape(self, input_shape):\n",
    "        #return input_shape[0], input_shape[-1]\n",
    "        return input_shape[0],  self.features_dim\n",
    "        \n"
   ]
  },
  {
   "cell_type": "code",
   "execution_count": 321,
   "metadata": {},
   "outputs": [
    {
     "name": "stdout",
     "output_type": "stream",
     "text": [
      "Y_states (?, 15, 100)\n",
      "h_state (?, 100)\n"
     ]
    }
   ],
   "source": [
    "AttentionLayer = Attention()\n",
    "attention_res = AttentionLayer([encoder_outputs, encoded_article] )\n",
    "#panelLay = Dense(16, kernel_regularizer=regularizers.l2(0.1), activation='relu')(attention_res)\n",
    "preds = Dense(4, activation='softmax')(attention_res)"
   ]
  },
  {
   "cell_type": "code",
   "execution_count": 322,
   "metadata": {},
   "outputs": [
    {
     "name": "stdout",
     "output_type": "stream",
     "text": [
      "Train on 60009 samples, validate on 6668 samples\n",
      "Epoch 1/40\n",
      "60009/60009 [==============================] - 69s 1ms/step - loss: 0.7725 - acc: 0.7278 - val_loss: 0.6658 - val_acc: 0.7545\n"
     ]
    },
    {
     "name": "stderr",
     "output_type": "stream",
     "text": [
      "/home/zqing/Projects/tf-sandbox/lib64/python3.6/site-packages/keras/engine/network.py:872: UserWarning: Layer lstm_28 was passed non-serializable keyword arguments: {'initial_state': [<tf.Tensor 'lstm_27/while/Exit_3:0' shape=(?, 100) dtype=float32>, <tf.Tensor 'lstm_27/while/Exit_4:0' shape=(?, 100) dtype=float32>]}. They will not be included in the serialized model (and thus will be missing at deserialization time).\n",
      "  '. They will not be included '\n"
     ]
    },
    {
     "name": "stdout",
     "output_type": "stream",
     "text": [
      "Epoch 2/40\n",
      "60009/60009 [==============================] - 62s 1ms/step - loss: 0.6037 - acc: 0.7630 - val_loss: 0.5005 - val_acc: 0.8020\n",
      "Epoch 3/40\n",
      "60009/60009 [==============================] - 62s 1ms/step - loss: 0.4665 - acc: 0.8104 - val_loss: 0.3991 - val_acc: 0.8422\n",
      "Epoch 4/40\n",
      "60009/60009 [==============================] - 62s 1ms/step - loss: 0.3842 - acc: 0.8443 - val_loss: 0.3530 - val_acc: 0.8661\n",
      "Epoch 5/40\n",
      "60009/60009 [==============================] - 62s 1ms/step - loss: 0.3265 - acc: 0.8684 - val_loss: 0.3076 - val_acc: 0.8839\n",
      "Epoch 6/40\n",
      "60009/60009 [==============================] - 62s 1ms/step - loss: 0.2777 - acc: 0.8902 - val_loss: 0.2696 - val_acc: 0.8992\n",
      "Epoch 7/40\n",
      "60009/60009 [==============================] - 62s 1ms/step - loss: 0.2423 - acc: 0.9039 - val_loss: 0.2551 - val_acc: 0.9018\n",
      "Epoch 8/40\n",
      "60009/60009 [==============================] - 62s 1ms/step - loss: 0.2094 - acc: 0.9168 - val_loss: 0.2434 - val_acc: 0.9100\n",
      "Epoch 9/40\n",
      "60009/60009 [==============================] - 62s 1ms/step - loss: 0.1853 - acc: 0.9269 - val_loss: 0.2225 - val_acc: 0.9207\n",
      "Epoch 10/40\n",
      "60009/60009 [==============================] - 62s 1ms/step - loss: 0.1662 - acc: 0.9347 - val_loss: 0.2132 - val_acc: 0.9213\n",
      "Epoch 11/40\n",
      "60009/60009 [==============================] - 62s 1ms/step - loss: 0.1504 - acc: 0.9407 - val_loss: 0.2031 - val_acc: 0.9258\n",
      "Epoch 12/40\n",
      "60009/60009 [==============================] - 62s 1ms/step - loss: 0.1350 - acc: 0.9457 - val_loss: 0.2093 - val_acc: 0.9291\n",
      "Epoch 13/40\n",
      "60009/60009 [==============================] - 62s 1ms/step - loss: 0.1264 - acc: 0.9506 - val_loss: 0.2005 - val_acc: 0.9322\n",
      "Epoch 14/40\n",
      "60009/60009 [==============================] - 62s 1ms/step - loss: 0.1157 - acc: 0.9553 - val_loss: 0.2041 - val_acc: 0.9301\n",
      "Epoch 15/40\n",
      "60009/60009 [==============================] - 62s 1ms/step - loss: 0.1066 - acc: 0.9595 - val_loss: 0.1845 - val_acc: 0.9414\n",
      "Epoch 16/40\n",
      "60009/60009 [==============================] - 62s 1ms/step - loss: 0.0984 - acc: 0.9629 - val_loss: 0.1845 - val_acc: 0.9432\n",
      "Epoch 17/40\n",
      "60009/60009 [==============================] - 62s 1ms/step - loss: 0.0928 - acc: 0.9647 - val_loss: 0.1780 - val_acc: 0.9453\n",
      "Epoch 18/40\n",
      "60009/60009 [==============================] - 62s 1ms/step - loss: 0.0871 - acc: 0.9667 - val_loss: 0.1755 - val_acc: 0.9481\n",
      "Epoch 19/40\n",
      "60009/60009 [==============================] - 62s 1ms/step - loss: 0.0774 - acc: 0.9715 - val_loss: 0.1689 - val_acc: 0.9523\n",
      "Epoch 20/40\n",
      "60009/60009 [==============================] - 62s 1ms/step - loss: 0.0750 - acc: 0.9723 - val_loss: 0.1741 - val_acc: 0.9567\n",
      "Epoch 21/40\n",
      "60009/60009 [==============================] - 62s 1ms/step - loss: 0.0696 - acc: 0.9746 - val_loss: 0.1854 - val_acc: 0.9526\n",
      "Epoch 22/40\n",
      "60009/60009 [==============================] - 62s 1ms/step - loss: 0.0645 - acc: 0.9772 - val_loss: 0.1698 - val_acc: 0.9558\n",
      "Epoch 23/40\n",
      "60009/60009 [==============================] - 62s 1ms/step - loss: 0.0598 - acc: 0.9786 - val_loss: 0.1672 - val_acc: 0.9550\n",
      "Epoch 24/40\n",
      "60009/60009 [==============================] - 62s 1ms/step - loss: 0.0521 - acc: 0.9812 - val_loss: 0.1667 - val_acc: 0.9592\n",
      "Epoch 25/40\n",
      "60009/60009 [==============================] - 62s 1ms/step - loss: 0.0561 - acc: 0.9795 - val_loss: 0.1762 - val_acc: 0.9574\n",
      "Epoch 26/40\n",
      "60009/60009 [==============================] - 62s 1ms/step - loss: 0.0506 - acc: 0.9820 - val_loss: 0.1688 - val_acc: 0.9585\n",
      "Epoch 27/40\n",
      "60009/60009 [==============================] - 62s 1ms/step - loss: 0.0421 - acc: 0.9854 - val_loss: 0.1768 - val_acc: 0.9576\n",
      "Epoch 28/40\n",
      "60009/60009 [==============================] - 62s 1ms/step - loss: 0.0456 - acc: 0.9842 - val_loss: 0.1585 - val_acc: 0.9616\n",
      "Epoch 29/40\n",
      "60009/60009 [==============================] - 62s 1ms/step - loss: 0.0428 - acc: 0.9857 - val_loss: 0.1615 - val_acc: 0.9627\n",
      "Epoch 30/40\n",
      "60009/60009 [==============================] - 62s 1ms/step - loss: 0.0407 - acc: 0.9860 - val_loss: 0.1604 - val_acc: 0.9630\n",
      "Epoch 31/40\n",
      "60009/60009 [==============================] - 62s 1ms/step - loss: 0.0362 - acc: 0.9877 - val_loss: 0.1692 - val_acc: 0.9615\n",
      "Epoch 32/40\n",
      "60009/60009 [==============================] - 64s 1ms/step - loss: 0.0376 - acc: 0.9871 - val_loss: 0.1695 - val_acc: 0.9624\n",
      "Epoch 33/40\n",
      "60009/60009 [==============================] - 63s 1ms/step - loss: 0.0333 - acc: 0.9886 - val_loss: 0.1839 - val_acc: 0.9601\n",
      "Epoch 34/40\n",
      "60009/60009 [==============================] - 62s 1ms/step - loss: 0.0333 - acc: 0.9890 - val_loss: 0.1905 - val_acc: 0.9610\n",
      "Epoch 35/40\n",
      "60009/60009 [==============================] - 61s 1ms/step - loss: 0.0377 - acc: 0.9872 - val_loss: 0.1613 - val_acc: 0.9616\n",
      "Epoch 36/40\n",
      "60009/60009 [==============================] - 62s 1ms/step - loss: 0.0295 - acc: 0.9902 - val_loss: 0.1765 - val_acc: 0.9628\n",
      "Epoch 37/40\n",
      "60009/60009 [==============================] - 61s 1ms/step - loss: 0.0291 - acc: 0.9900 - val_loss: 0.1752 - val_acc: 0.9660\n",
      "Epoch 38/40\n",
      "60009/60009 [==============================] - 62s 1ms/step - loss: 0.0290 - acc: 0.9898 - val_loss: 0.1899 - val_acc: 0.9609\n",
      "Epoch 39/40\n",
      "60009/60009 [==============================] - 62s 1ms/step - loss: 0.0332 - acc: 0.9886 - val_loss: 0.1641 - val_acc: 0.9649\n",
      "Epoch 40/40\n",
      "60009/60009 [==============================] - 62s 1ms/step - loss: 0.0250 - acc: 0.9918 - val_loss: 0.1873 - val_acc: 0.9633\n"
     ]
    }
   ],
   "source": [
    "#%%capture history\n",
    "model = Model(inputs=[ headline_sequence_input,article_sequence_input], outputs=preds)\n",
    "optimizer = optimizers.Adam(lr=0.001) # \n",
    "#add regularize\n",
    "model.compile(optimizer-\n",
    "              = optimizer,\n",
    "              loss='categorical_crossentropy',\n",
    "              metrics=['accuracy' ])\n",
    "\n",
    "filepath=\"./result/conditional/Mask_Condition_Attention__epoch40_lr0.001_trainable_15Atlength_75_{epoch:02d}_{val_acc:.4f}.h5\"\n",
    "checkpoint = callbacks.ModelCheckpoint(filepath, \n",
    "                                       monitor='val_acc', \n",
    "                                       verbose=0, \n",
    "                                       save_best_only=True)\n",
    "\n",
    "callbacks_list = [checkpoint]\n",
    "\n",
    "history = model.fit([X_train_HEAD, X_train_BODY], y_train, validation_data = ([ X_vali_HEAD,X_vali_BODY], y_vali), batch_size=BATCH_SIZE, epochs=N_EPOCHS,callbacks = callbacks_list)\n"
   ]
  },
  {
   "cell_type": "code",
   "execution_count": 324,
   "metadata": {},
   "outputs": [
    {
     "data": {
      "text/plain": [
       "<matplotlib.legend.Legend at 0x7f0c148d50f0>"
      ]
     },
     "execution_count": 324,
     "metadata": {},
     "output_type": "execute_result"
    },
    {
     "data": {
      "image/png": "[encoded data removed]",
      "text/plain": [
       "<Figure size 432x288 with 1 Axes>"
      ]
     },
     "metadata": {},
     "output_type": "display_data"
    }
   ],
   "source": [
    "with open('./history/history(mask_conditional_epoch40_75_lr0.001_trainable)', 'wb') as file_pi:\n",
    "        pickle.dump(history.history, file_pi)\n",
    "\n",
    "plt.plot(history.history['acc'])\n",
    "plt.plot(history.history['val_acc'])\n",
    "plt.title('Conditional Model Accuracy(Truncation: 150 Epoch: 60 Lr:0.002)')\n",
    "plt.ylabel('Accuracy')\n",
    "plt.xlabel('Epoch')\n",
    "plt.legend(['train', 'test'], loc='upper left')\n"
   ]
  },
  {
   "cell_type": "markdown",
   "metadata": {},
   "source": [
    "# prdiction"
   ]
  },
  {
   "cell_type": "code",
   "execution_count": 176,
   "metadata": {},
   "outputs": [],
   "source": [
    "from keras import models"
   ]
  },
  {
   "cell_type": "code",
   "execution_count": 177,
   "metadata": {},
   "outputs": [
    {
     "name": "stdout",
     "output_type": "stream",
     "text": [
      "Y_states (?, 15, 100)\n",
      "h_state (?, 100)\n"
     ]
    }
   ],
   "source": [
    "model_file_path = './result/conditional/differentdata-FirstLSTMdropout0.8_Mask_Condition_Attention__epoch40_lr0.003_trainable_15Atlength_150_40_0.9475.h5'\n",
    "model = models.load_model(model_file_path,custom_objects = {'Attention': Attention()})"
   ]
  },
  {
   "cell_type": "code",
   "execution_count": 178,
   "metadata": {},
   "outputs": [],
   "source": [
    "preds = model.predict([X_test_HEAD,X_test_BODY])"
   ]
  },
  {
   "cell_type": "code",
   "execution_count": 179,
   "metadata": {},
   "outputs": [
    {
     "data": {
      "text/plain": [
       "array([[9.9999988e-01, 2.3932689e-10, 1.1390582e-10, 1.3904284e-07],\n",
       "       [9.9999821e-01, 2.2897855e-09, 2.1600366e-10, 1.8417825e-06],\n",
       "       [1.2471218e-03, 9.2647976e-01, 7.1984977e-02, 2.8814224e-04],\n",
       "       ...,\n",
       "       [2.3019868e-01, 4.7908389e-04, 1.1402563e-02, 7.5791967e-01],\n",
       "       [9.9997604e-01, 2.3959217e-05, 2.2579588e-08, 1.3820567e-08],\n",
       "       [1.0000000e+00, 6.3416322e-10, 2.0205540e-10, 5.1331255e-09]],\n",
       "      dtype=float32)"
      ]
     },
     "execution_count": 179,
     "metadata": {},
     "output_type": "execute_result"
    }
   ],
   "source": [
    "preds"
   ]
  },
  {
   "cell_type": "code",
   "execution_count": 180,
   "metadata": {},
   "outputs": [],
   "source": [
    "outputs = [np.argmax(p, axis = -1) for p in preds]"
   ]
  },
  {
   "cell_type": "code",
   "execution_count": 181,
   "metadata": {},
   "outputs": [],
   "source": [
    "for i in range(len(outputs)):\n",
    "    if outputs[i] == 0: outputs[i] = \"unrelated\"\n",
    "    if outputs[i] == 1: outputs[i] = \"disagree\"\n",
    "    if outputs[i] == 2: outputs[i] = \"agree\"\n",
    "    if outputs[i] == 3: outputs[i] = \"discuss\"\n"
   ]
  },
  {
   "cell_type": "code",
   "execution_count": 182,
   "metadata": {},
   "outputs": [],
   "source": [
    "df_predicted = pd.DataFrame({'Stance': outputs})\n",
    "result = pd.concat([test_df, df_predicted], axis=1, sort=False)\n",
    "result.to_csv('./different_conditional_150_answer.csv', index=False, encoding='utf-8')"
   ]
  },
  {
   "cell_type": "code",
   "execution_count": null,
   "metadata": {},
   "outputs": [],
   "source": []
  }
 ],
 "metadata": {
  "kernelspec": {
   "display_name": "Python 3",
   "language": "python",
   "name": "python3"
  },
  "language_info": {
   "codemirror_mode": {
    "name": "ipython",
    "version": 3
   },
   "file_extension": ".py",
   "mimetype": "text/x-python",
   "name": "python",
   "nbconvert_exporter": "python",
   "pygments_lexer": "ipython3",
   "version": "3.6.6"
  }
 },
 "nbformat": 4,
 "nbformat_minor": 2
}
